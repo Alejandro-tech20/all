{
 "cells": [
  {
   "cell_type": "code",
   "execution_count": 1,
   "metadata": {},
   "outputs": [],
   "source": [
    "import pydoc"
   ]
  },
  {
   "cell_type": "code",
   "execution_count": 2,
   "metadata": {},
   "outputs": [],
   "source": [
    "class Get_pedido_origen:\n",
    "    def __init__(self):\n",
    "        self.server_solmicro = r'SERVIDOR\\SOLMICRO6'\n",
    "        self.database_solmicro = 'SolmicroERP6_PruebasSub'\n",
    "        self.username_solmicro = 'sa'\n",
    "        self.password_solmicro = 'Altai2021'\n",
    "        self.connection_string_solmicro = f'DRIVER={{SQL Server}};SERVER={self.server_solmicro};DATABASE={self.database_solmicro};UID={self.username_solmicro};PWD={self.password_solmicro}'\n",
    "        self.connection = None\n",
    "        self.tables_info = []\n",
    "    def Open_Conn_Solmicro(self):\n",
    "        try:\n",
    "            self.connection = pyodbc.connect(self.connection_string_solmicro)\n",
    "            return self.connection\n",
    "        except Exception as e:\n",
    "            print(\"Error opening connection: \", e)\n",
    "\n",
    "    def __del__(self):\n",
    "        self.CloseConnection()\n",
    "\n",
    "    def CloseConnection(self):\n",
    "        try:\n",
    "            self.connection = pyodbc.connect(self.connection_string_solmicro)\n",
    "            return self.connection\n",
    "        except Exception as e:\n",
    "            print(\"Error opening connection: \", e)\n",
    "   # def Get_Fase(self):\n",
    "   #     padre_y_fase_query= r\"SELECT TOP (1) IDArticulo, Secuencia FROM tbEstructura WHERE (IDComponente = N'34529-01 C1')\"\n",
    "    #    norden_query = r\"select NOrden from tbOrdenFabricacion where (([IdArticulo] = N'34529-01-077' and ([Estado] = 3 or [Estado] = 2 or [Estado] = 0 or [Estado] = 1) and (QFabricar - QFabricada) > 0))\"\n",
    "     #   npedido_venta_cliente_query = r\"select NPedido,IDCliente,IDPedido from VFrmMntoConsultaPedidosVenta where (([IDArticulo] = N'34529-01-077' and [EstadoLinea] <> 2 and [EstadoLinea] <> 3 and [FechaEntrega] >= '20220101 00:00:00.000'))\"\n",
    "      #  revision_query = r\"SELECT Revision FROM tbArticuloCliente WHERE (IDArticulo = N'34529-01 C1') and IDCliente = N'103'\"\n",
    "       # pvp_query = r\"SELECT Precio FROM tbPedidoVentaLinea WHERE (IDPedido = 17619839) AND (IDArticulo = N'34529-01-077')\"\n",
    "   # def Get_OF():\n",
    "        \n",
    "\n"
   ]
  },
  {
   "cell_type": "code",
   "execution_count": null,
   "metadata": {},
   "outputs": [],
   "source": []
  }
 ],
 "metadata": {
  "kernelspec": {
   "display_name": "flaskTaskPython",
   "language": "python",
   "name": "python3"
  },
  "language_info": {
   "codemirror_mode": {
    "name": "ipython",
    "version": 3
   },
   "file_extension": ".py",
   "mimetype": "text/x-python",
   "name": "python",
   "nbconvert_exporter": "python",
   "pygments_lexer": "ipython3",
   "version": "3.11.5"
  },
  "orig_nbformat": 4
 },
 "nbformat": 4,
 "nbformat_minor": 2
}
