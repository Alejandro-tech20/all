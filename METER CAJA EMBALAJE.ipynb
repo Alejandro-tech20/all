{
 "cells": [
  {
   "cell_type": "code",
   "execution_count": 4,
   "metadata": {},
   "outputs": [],
   "source": [
    "import pyodbc\n",
    "import pandas as pd"
   ]
  },
  {
   "cell_type": "code",
   "execution_count": 4,
   "metadata": {},
   "outputs": [],
   "source": [
    "class MeterCaja:\n",
    "    def __init__(self):\n",
    "        self.server_solmicro = r'srvsql'\n",
    "        self.database_solmicro = 'SolmicroERP6_PruebasSub'\n",
    "        self.username_solmicro = 'sa'\n",
    "        self.password_solmicro = 'Altai2021'\n",
    "        self.connection_string_solmicro = f'DRIVER={{SQL Server}};SERVER={self.server_solmicro};DATABASE={self.database_solmicro};UID={self.username_solmicro};PWD={self.password_solmicro}'\n",
    "        self.connection = None\n",
    "        self.tables_info = []\n",
    "        self.ruta_archivo = r'final.xlsx' \n",
    "        self.hoja_excel = 'Hoja2'  \n",
    "\n",
    "    def CargarExcel(self):\n",
    "        try:\n",
    "            datos_excel = pd.read_excel(self.ruta_archivo, sheet_name=self.hoja_excel)\n",
    "            nombre_columna = 'ID'  \n",
    "            columna_especifica = datos_excel['ID'] \n",
    "            art_ids = set(item for item in columna_especifica) \n",
    "            return art_ids\n",
    "        except Exception as e:\n",
    "            print(\"Error Excel: \",e)\n",
    "\n",
    "    def Open_Conn_Solmicro(self):\n",
    "        try:\n",
    "            self.connection = pyodbc.connect(self.connection_string_solmicro)\n",
    "            return self.connection\n",
    "        except Exception as e:\n",
    "            print(\"Error opening connection: \", e)\n",
    "\n",
    "    def __del__(self):\n",
    "        self.CloseConnection()\n",
    "    \n",
    "    def getDatosRuta(self,datos_excel):\n",
    "        resultados = []\n",
    "        for id in datos_excel:\n",
    "            result = self.RunQuery(f\"SELECT TOP(1) IDArticulo,Secuencia FROM tbRuta WHERE (IDArticulo = '{id}') ORDER BY Secuencia\")\n",
    "            if(result):\n",
    "                print(result[0])\n",
    "                resultados.append(result)\n",
    "        return resultados\n",
    "    def insertSecc(self,List_id):\n",
    "        for id in List_id:\n",
    "            # autonumeric = self.RunQuery(\"xAutoNumericValue\")\n",
    "            if(id[0][1] == 5):\n",
    "                print(id[0])\n",
    "        # stringInsert = f\"insert into tbRuta ([IDRutaOp], [IDArticulo], [IDRuta], [Secuencia], [TipoOperacion], \n",
    "        # [IDOperacion], [DescOperacion], [Critica], [IDCentro], [FactorHombre], [IDUdProduccion], [UdTiempo],\n",
    "        # [FactorProduccion], [ControlProduccion], [UdTiempoPrep], [UdTiempoEjec], [FechaCreacionAudi], [FechaModificacionAudi],\n",
    "        # [UsuarioAudi], [UsuarioCreacionAudi]) \n",
    "        # values \n",
    "        # (19603688, N'{id_articulo}', N'01', 5, 0, N'5', N'METER CAJA EMBALAJE + INDICAR MAXIMO PIEZAS CAJA Y  PALET S/ LISTA', 0, N'1200', 1, N'u.', 2, 1, 1, 2, 2, '20231123 10:36:58.865', '20231123 10:36:58.865', N'favram\\a.obregon', N'favram\\a.obregon')\"\n",
    "\n",
    "    def CloseConnection(self):\n",
    "        try:\n",
    "            self.connection = pyodbc.connect(self.connection_string_solmicro)\n",
    "            return self.connection\n",
    "        except Exception as e:\n",
    "            print(\"Error opening connection: \", e)\n",
    "            \n",
    "    def RunQuery(self,stringQuery):\n",
    "        cursor = self.connection.cursor()\n",
    "        register = cursor.execute(stringQuery).fetchall()\n",
    "        cursor.close()\n",
    "        return register\n",
    "    \n",
    "    def RunProcedure(self):\n",
    "        cursor = self.connection.cursor()\n",
    "        register = cursor.execute(\"exec xAutoNumericValue\")\n",
    "        print(\"El valor devuelto es:\",register)\n",
    "        cursor.close()\n",
    "        return register\n",
    "       \n"
   ]
  },
  {
   "cell_type": "code",
   "execution_count": 5,
   "metadata": {},
   "outputs": [
    {
     "name": "stdout",
     "output_type": "stream",
     "text": [
      "Error opening connection:  name 'pyodbc' is not defined\n"
     ]
    }
   ],
   "source": [
    "mc = MeterCaja()\n",
    "mc.Open_Conn_Solmicro()\n",
    "# mc.RunProcedure()\n",
    "# datos = mc.CargarExcel()\n",
    "# datos_rutas =  mc.getDatosRuta(datos_excel=datos)\n",
    "# mc.insertSecc(datos_rutas)\n",
    "# df = pd.DataFrame(datos, columns=[\"ID\"])\n",
    "\n",
    "# df.to_excel(\"final.xlsx\", index=False)"
   ]
  }
 ],
 "metadata": {
  "kernelspec": {
   "display_name": "flasktaskpython",
   "language": "python",
   "name": "python3"
  },
  "language_info": {
   "codemirror_mode": {
    "name": "ipython",
    "version": 3
   },
   "file_extension": ".py",
   "mimetype": "text/x-python",
   "name": "python",
   "nbconvert_exporter": "python",
   "pygments_lexer": "ipython3",
   "version": "3.11.5"
  }
 },
 "nbformat": 4,
 "nbformat_minor": 2
}
