{
 "cells": [
  {
   "cell_type": "code",
   "execution_count": 3,
   "metadata": {},
   "outputs": [],
   "source": [
    "import pyodbc"
   ]
  },
  {
   "cell_type": "code",
   "execution_count": 31,
   "metadata": {},
   "outputs": [],
   "source": [
    "class UpdateObsoletos:\n",
    "    def __init__(self):\n",
    "        self.server_solmicro = r'SERVIDOR\\SOLMICRO6'\n",
    "        self.database_solmicro = 'SolmicroERP6_PruebasSub'\n",
    "        self.username_solmicro = 'sa'\n",
    "        self.password_solmicro = 'Altai2021'\n",
    "        self.connection_string_solmicro = f'DRIVER={{SQL Server}};SERVER={self.server_solmicro};DATABASE={self.database_solmicro};UID={self.username_solmicro};PWD={self.password_solmicro}'\n",
    "        self.connection = None\n",
    "        self.tables_info = []\n",
    "\n",
    "    def Open_Conn_Solmicro(self):\n",
    "        try:\n",
    "            self.connection = pyodbc.connect(self.connection_string_solmicro)\n",
    "            return self.connection\n",
    "        except Exception as e:\n",
    "            print(\"Error opening connection: \", e)\n",
    "\n",
    "    def __del__(self):\n",
    "        self.CloseConnection()\n",
    "\n",
    "    def CloseConnection(self):\n",
    "        try:\n",
    "            self.connection = pyodbc.connect(self.connection_string_solmicro)\n",
    "            return self.connection\n",
    "        except Exception as e:\n",
    "            print(\"Error opening connection: \", e)\n",
    "            \n",
    "    def RunQuery(self,stringQuery):\n",
    "        cursor = self.connection.cursor()\n",
    "        register = cursor.execute(stringQuery).fetchall()\n",
    "        cursor.close()\n",
    "        return register\n",
    "\n",
    "    def UpdateField_IDEstado(self,string_query):\n",
    "        try:\n",
    "            cursor = self.RunQuery(stringQuery=string_query)\n",
    "            for row in cursor:\n",
    "                query = f\"UPDATE tbMaestroArticulo SET IDEstado = ? WHERE IDArticulo = {row[0]} \"\n",
    "                #row[4] = 'O'\n",
    "                #cursor.updateRow(row)\n",
    "            self.connection.commit()\n",
    "        except Exception as e:\n",
    "            print('Error',e)\n",
    "        \n",
    "\n",
    "    "
   ]
  },
  {
   "cell_type": "code",
   "execution_count": 30,
   "metadata": {},
   "outputs": [
    {
     "name": "stdout",
     "output_type": "stream",
     "text": [
      "Error 'pyodbc.Cursor' object has no attribute 'updateRow'\n"
     ]
    }
   ],
   "source": [
    "string_query =r\"SELECT   IDArticulo, DescArticulo, IDTipo, IDFamilia, IDEstado FROM  tbMaestroArticulo WHERE  (IDFamilia = N'4020') AND (CHARINDEX('obsoleto', DescArticulo) > 0)\"\n",
    "i_UpdateObsoletos = UpdateObsoletos()\n",
    "i_UpdateObsoletos.Open_Conn_Solmicro()\n",
    "i_UpdateObsoletos.UpdateField_IDEstado(string_query=string_query)"
   ]
  }
 ],
 "metadata": {
  "kernelspec": {
   "display_name": "flaskTaskPython",
   "language": "python",
   "name": "python3"
  },
  "language_info": {
   "codemirror_mode": {
    "name": "ipython",
    "version": 3
   },
   "file_extension": ".py",
   "mimetype": "text/x-python",
   "name": "python",
   "nbconvert_exporter": "python",
   "pygments_lexer": "ipython3",
   "version": "3.11.5"
  }
 },
 "nbformat": 4,
 "nbformat_minor": 2
}
