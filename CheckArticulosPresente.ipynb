{
 "cells": [
  {
   "cell_type": "code",
   "execution_count": 1,
   "metadata": {},
   "outputs": [],
   "source": [
    "from sqlalchemy import create_engine, text, bindparam, Integer\n",
    "from sqlalchemy.orm import sessionmaker\n",
    "\n",
    "import pandas as pd\n",
    "import locale\n",
    "locale.setlocale(locale.LC_ALL, 'es_ES.UTF-8')\n",
    "import pyodbc"
   ]
  },
  {
   "cell_type": "code",
   "execution_count": 30,
   "metadata": {},
   "outputs": [],
   "source": [
    "class CheckArticulosPresente:\n",
    "    def __init__(self):\n",
    "        self.server_solmicro = r'srvsql'\n",
    "        self.server_industry = r'SERVIDOR'\n",
    "        self.database_solmicro = 'SolmicroERP6_PruebasSub'\n",
    "        self.database_industry = 'IPFavram'\n",
    "        self.username_solmicro = 'sa'\n",
    "        self.password_solmicro = 'Altai2021'\n",
    "        self.password_industry = '71zl6p9h'\n",
    "        self.connection_string_solmicro = create_engine(\n",
    "            f'mssql+pyodbc://{self.username_solmicro}:{self.password_solmicro}@{self.server_solmicro}/{self.database_solmicro}?driver=SQL+Server')\n",
    "        self.connection_string_industry = create_engine(\n",
    "            f'mssql+pyodbc://{self.username_solmicro}:{self.password_industry}@{self.server_industry}/{self.database_industry}?driver=SQL+Server')\n",
    "        self.connection = None\n",
    "        self.connection_industry = None\n",
    "        self.tables_info = []\n",
    "        self.listArticulos = [443000021633, 442295636741, 443000021629, 443000022021, 443000022026, 443000022027, 443000021525, 443000021559, 443000021561, 443000021562, 443000021563,443000021565, 443000022076, 442296340551, 443000021582, 443000021583, 443000021584, 443000021585, 443000021627, 443000022005, 443000021626, 443000021625, 443000016122, 443000021628]\n",
    "        self.connection_solmicro = f'DRIVER={{SQL Server}};SERVER={self.server_solmicro};DATABASE={self.database_solmicro};UID={self.username_solmicro};PWD={self.password_solmicro}'\n",
    "    \n",
    "    def Open_Conn_Solmicro(self):\n",
    "        try:\n",
    "            self.connection = self.connection_string_solmicro.connect()\n",
    "            return self.connection\n",
    "        except Exception as e:\n",
    "            print(\"Error opening connection: \", e)\n",
    "\n",
    "    def Open_Conn_Industry(self):\n",
    "        try:\n",
    "            self.connection = self.connection_string_industry.connect()\n",
    "            return self.connection\n",
    "        except Exception as e:\n",
    "            print(\"Error opening connection: \", e)\n",
    "\n",
    "    def getNoPresentesSolmicro(self, listArticos):\n",
    "        resultados = []\n",
    "        try:\n",
    "            conn = self.Open_Conn_Solmicro()\n",
    "            if conn:\n",
    "                for id in listArticos:\n",
    "                    query = text(f\"SELECT IDArticulo FROM tbMaestroArticulo WHERE (IDArticulo = N'{id}')\")\n",
    "                    result = conn.execute(query).fetchall()\n",
    "                    if len(result) <=0:\n",
    "                        resultados.append(id)\n",
    "                conn.close()\n",
    "            return resultados\n",
    "        except Exception as e:\n",
    "            print(\"Error en la consulta:\", e)\n",
    "            return resultados\n",
    "        \n",
    "    def getNoPresentArticuloRuta(self, listArticos):\n",
    "        resultados = []\n",
    "        try:\n",
    "            conn = self.Open_Conn_Solmicro()\n",
    "            if conn:\n",
    "                for id in listArticos:\n",
    "                    query = text(f\"SELECT IDArticulo FROM tbArticuloRuta WHERE (IDArticulo = N'{id}')\")\n",
    "                    result = conn.execute(query).fetchall()\n",
    "                    if result:\n",
    "                        resultados.append(id)\n",
    "                conn.close()\n",
    "            return resultados\n",
    "        except Exception as e:\n",
    "            print(\"Error en la consulta:\", e)\n",
    "            return resultados"
   ]
  },
  {
   "cell_type": "code",
   "execution_count": 31,
   "metadata": {},
   "outputs": [],
   "source": [
    "iChAPresent = CheckArticulosPresente()"
   ]
  },
  {
   "cell_type": "code",
   "execution_count": 29,
   "metadata": {},
   "outputs": [
    {
     "data": {
      "text/plain": [
       "[443000022021, 443000016122]"
      ]
     },
     "execution_count": 29,
     "metadata": {},
     "output_type": "execute_result"
    }
   ],
   "source": [
    "iChAPresent.getNoPresentesSolmicro(iChAPresent.listArticulos)"
   ]
  },
  {
   "cell_type": "code",
   "execution_count": 32,
   "metadata": {},
   "outputs": [
    {
     "data": {
      "text/plain": [
       "[443000021633, 442295636741, 443000021629]"
      ]
     },
     "execution_count": 32,
     "metadata": {},
     "output_type": "execute_result"
    }
   ],
   "source": [
    "iChAPresent.getNoPresentArticuloRuta(iChAPresent.listArticulos)"
   ]
  }
 ],
 "metadata": {
  "kernelspec": {
   "display_name": "flasktaskpython",
   "language": "python",
   "name": "python3"
  },
  "language_info": {
   "codemirror_mode": {
    "name": "ipython",
    "version": 3
   },
   "file_extension": ".py",
   "mimetype": "text/x-python",
   "name": "python",
   "nbconvert_exporter": "python",
   "pygments_lexer": "ipython3",
   "version": "3.11.5"
  }
 },
 "nbformat": 4,
 "nbformat_minor": 2
}
