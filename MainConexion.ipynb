{
 "cells": [
  {
   "cell_type": "code",
   "execution_count": 2,
   "metadata": {},
   "outputs": [],
   "source": [
    "import pyodbc"
   ]
  },
  {
   "cell_type": "code",
   "execution_count": 3,
   "metadata": {},
   "outputs": [],
   "source": [
    "class MainConexion:\n",
    "    def __init__(self):\n",
    "        self.server_solmicro = r'SERVIDOR\\SOLMICRO6'\n",
    "        self.database_solmicro = 'SolmicroERP6_PruebasSub'\n",
    "        self.username_solmicro = 'sa'\n",
    "        self.password_solmicro = 'Altai2021'\n",
    "        self.connection_string_solmicro = f'DRIVER={{SQL Server}};SERVER={self.server_solmicro};DATABASE={self.database_solmicro};UID={self.username_solmicro};PWD={self.password_solmicro}'\n",
    "        self.connection = None\n",
    "        self.tables_info = []\n",
    "    def Open_Conn_Solmicro(self):\n",
    "        try:\n",
    "            self.connection = pyodbc.connect(self.connection_string_solmicro)\n",
    "            return self.connection\n",
    "        except Exception as e:\n",
    "            print(\"Error opening connection: \", e)\n",
    "\n",
    "    def __del__(self):\n",
    "        self.CloseConnection()\n",
    "\n",
    "    def CloseConnection(self):\n",
    "        try:\n",
    "            self.connection = pyodbc.connect(self.connection_string_solmicro)\n",
    "            return self.connection\n",
    "        except Exception as e:\n",
    "            print(\"Error opening connection: \", e)\n",
    "    def RunQuery(self,stringQuery):\n",
    "        cursor = self.connection.cursor()\n",
    "        register = cursor.execute(stringQuery).fetchall()\n",
    "        cursor.close()\n",
    "        return register\n",
    "   "
   ]
  }
 ],
 "metadata": {
  "kernelspec": {
   "display_name": "flaskTaskPython",
   "language": "python",
   "name": "python3"
  },
  "language_info": {
   "codemirror_mode": {
    "name": "ipython",
    "version": 3
   },
   "file_extension": ".py",
   "mimetype": "text/x-python",
   "name": "python",
   "nbconvert_exporter": "python",
   "pygments_lexer": "ipython3",
   "version": "3.11.5"
  }
 },
 "nbformat": 4,
 "nbformat_minor": 2
}
