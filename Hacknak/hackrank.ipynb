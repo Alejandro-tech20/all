{
 "cells": [
  {
   "cell_type": "code",
   "execution_count": null,
   "metadata": {},
   "outputs": [],
   "source": [
    "def timeConvertion(s):\n",
    "    hh, mm, ss = map(int, s[:-2].split(':'))\n",
    "    if hh == 12:\n",
    "        hh = 0\n",
    "    if 'P' in s.upper():\n",
    "        hh = hh + 12\n",
    "\n",
    "    return '{:02d}:{:02d}:{:02d}'.format(hh, mm, ss)"
   ]
  },
  {
   "cell_type": "code",
   "execution_count": null,
   "metadata": {},
   "outputs": [],
   "source": [
    "print(timeConvertion('12:01:00pM'))"
   ]
  },
  {
   "cell_type": "code",
   "execution_count": null,
   "metadata": {},
   "outputs": [],
   "source": [
    "def divisibleSumPairs(n, k, ar):\n",
    "    cnt = 0\n",
    "    for i in ar[:-1]:\n",
    "        for y in ar[1:]:\n",
    "            if (i+y) % k == 0:\n",
    "                cnt += 1\n",
    "    return cnt"
   ]
  },
  {
   "cell_type": "code",
   "execution_count": null,
   "metadata": {},
   "outputs": [],
   "source": [
    "divisibleSumPairs(10, 3, (1, 2, 3, 4, 5))"
   ]
  },
  {
   "cell_type": "code",
   "execution_count": null,
   "metadata": {},
   "outputs": [],
   "source": [
    "# Exercise Plus Minus\n",
    "from collections import Counter\n",
    "\n",
    "\n",
    "def plusMinus(arr):\n",
    "    positivos = 0\n",
    "    negativos = 0\n",
    "    ceros = 0\n",
    "\n",
    "    # Recorremos la lista una vez para contar los elementos\n",
    "    for num in arr:\n",
    "        if num > 0:\n",
    "            positivos += 1\n",
    "        elif num < 0:\n",
    "            negativos += 1\n",
    "        else:\n",
    "            ceros += 1\n",
    "\n",
    "    # Calculamos las proporciones\n",
    "    total = len(arr)\n",
    "    prop_positivos = positivos / total\n",
    "    prop_negativos = negativos / total\n",
    "    prop_ceros = ceros / total\n",
    "\n",
    "    # Devolvemos las proporciones con 6 decimales\n",
    "    return round(prop_positivos, 6), round(prop_negativos, 6), round(prop_ceros, 6)\n",
    "\n",
    "\n",
    "arr = [1, 1, 0, -9, -1]\n",
    "\n",
    "plusMinus(arr)"
   ]
  },
  {
   "cell_type": "code",
   "execution_count": null,
   "metadata": {},
   "outputs": [],
   "source": [
    "# Lonely Integer\n",
    "from collections import Counter\n",
    "\n",
    "\n",
    "def elemento_menos_comun(lista):\n",
    "    contador = Counter(lista)\n",
    "    menos_comun = contador.most_common()[-1][0]\n",
    "    return menos_comun\n",
    "\n",
    "\n",
    "def contar_frecuencia(lista):\n",
    "    frecuencias = {}\n",
    "    for elemento in lista:\n",
    "        if elemento in frecuencias:\n",
    "            frecuencias[elemento] += 1\n",
    "        else:\n",
    "            frecuencias[elemento] = 1\n",
    "    return frecuencias\n",
    "\n",
    "\n",
    "def elemento_menos_comun(lista):\n",
    "    frecuencias = contar_frecuencia(lista)\n",
    "    menos_comun = min(frecuencias, key=frecuencias.get)\n",
    "    return menos_comun"
   ]
  },
  {
   "cell_type": "code",
   "execution_count": null,
   "metadata": {},
   "outputs": [],
   "source": [
    "# Grading Students\n",
    "def gradingStudents(grades):\n",
    "    result = []\n",
    "    for grade in grades:\n",
    "        if grade < 38 or grade % 5 < 3:\n",
    "            result.append(grade)\n",
    "        else:\n",
    "            rounde_grade = grade + (5-grade % 5)\n",
    "            result.append(rounde_grade)\n",
    "    return result\n",
    "\n",
    "\n",
    "gradingStudents([73, 67, 38, 33])"
   ]
  },
  {
   "cell_type": "code",
   "execution_count": 2,
   "metadata": {},
   "outputs": [
    {
     "data": {
      "text/plain": [
       "2147483648"
      ]
     },
     "execution_count": 2,
     "metadata": {},
     "output_type": "execute_result"
    }
   ],
   "source": [
    "# You will be given a list of 32 bit unsigned integers. Flip all the bits ( and ) and return\n",
    "# the result as an unsigned integer.\n",
    "\n",
    "def invertir(num=4):\n",
    "    # bytes_originales = num.to_bytes(4, byteorder='little', signed=False)\n",
    "    # bytes_invertidos = bytes([~byte & 0xFF for byte in bytes_originales])\n",
    "    return 0xFFFFFFFF - num\n",
    "\n",
    "\n",
    "invertir(2147483647)"
   ]
  },
  {
   "cell_type": "code",
   "execution_count": 3,
   "metadata": {},
   "outputs": [
    {
     "data": {
      "text/plain": [
       "2"
      ]
     },
     "execution_count": 3,
     "metadata": {},
     "output_type": "execute_result"
    }
   ],
   "source": [
    "# Given a square matrix, calculate the absolute difference between the sums of its diagonals.\n",
    "# For example, the square matrix arr is shown below:\n",
    "def diagonalDifference(arr):\n",
    "    x = 0\n",
    "    sum_l = 0\n",
    "    sum_r = 0\n",
    "    for item in arr:\n",
    "        sum_l += item[x]\n",
    "        sum_r += item[len(item)-1-x]\n",
    "        x += 1\n",
    "    return abs(sum_l-sum_r)\n",
    "\n",
    "\n",
    "matriz = [\n",
    "    [1, 2, 3],\n",
    "    [4, 5, 6],\n",
    "    [9, 8, 9]\n",
    "]\n",
    "\n",
    "diagonalDifference(matriz)"
   ]
  },
  {
   "cell_type": "code",
   "execution_count": 5,
   "metadata": {},
   "outputs": [
    {
     "name": "stdout",
     "output_type": "stream",
     "text": [
      "[2, 0, 2, 0, 0, 1, 0, 1, 2, 1, 0, 1, 1, 0, 0, 2, 0, 1, 0, 1, 2, 1, 1, 1, 3, 0, 2, 0, 0, 2, 0, 3, 3, 1, 0, 0, 0, 0, 2, 2, 1, 1, 1, 2, 0, 2, 0, 1, 0, 1, 0, 0, 1, 0, 0, 2, 1, 0, 1, 1, 1, 0, 1, 0, 1, 0, 2, 1, 3, 2, 0, 0, 2, 1, 2, 1, 0, 2, 2, 1, 2, 1, 2, 1, 1, 2, 2, 0, 3, 2, 1, 1, 0, 1, 1, 1, 0, 2, 2]\n"
     ]
    }
   ],
   "source": [
    "# Comparison Sorting\n",
    "# Quicksort usually has a running time of n x log(n) , but is there an algorithm that can sort even faster? In general,\n",
    "# this is not possible. Most sorting algorithms are comparison sorts, i.e. they sort a list just by comparing the elements\n",
    "# to one another. A comparison sort algorithm cannot beat n x log(n) (worst-case) running time, since  n x log(n)  represents\n",
    "# the minimum number of comparisons needed to know where to place each element. For more details, you can see these notes (PDF).\n",
    "# Alternative Sorting\n",
    "# Another sorting method, the counting sort, does not require comparison. Instead, you create an integer array whose index\n",
    "# range covers the entire range of values in your array to sort. Each time a value occurs in the original array, you increment\n",
    "#  the counter at that index. At the end, run through your counting array, printing the value of each non-zero valued index\n",
    "# that number of times.\n",
    "\n",
    "inputArr = \"63 25 73 1 98 73 56 84 86 57 16 83 8 25 81 56 9 53 98 67 99 12 83 89 80 91 39 86 76 85 74 39 25 90 59 10 94 32 44 3 89 30 27 79 46 96 27 32 18 21 92 69 81 40 40 34 68 78 24 87 42 69 23 41 78 22 6 90 99 89 50 30 20 1 43 3 70 95 33 46 44 9 69 48 33 60 65 16 82 67 61 32 21 79 75 75 13 87 70 33\"\n",
    "setArr = [int(iten) for iten in inputArr.split()]\n",
    "\n",
    "\n",
    "def countingSort(arr):\n",
    "    min_val = min(arr)\n",
    "    max_val = max(arr)\n",
    "    count = [0] * (max_val - min_val + 1)\n",
    "    for a in arr:\n",
    "        count[a-min_val] += 1\n",
    "    return count\n",
    "\n",
    "print(countingSort(setArr))"
   ]
  }
 ],
 "metadata": {
  "kernelspec": {
   "display_name": "backDashboard",
   "language": "python",
   "name": "python3"
  },
  "language_info": {
   "codemirror_mode": {
    "name": "ipython",
    "version": 3
   },
   "file_extension": ".py",
   "mimetype": "text/x-python",
   "name": "python",
   "nbconvert_exporter": "python",
   "pygments_lexer": "ipython3",
   "version": "3.11.5"
  }
 },
 "nbformat": 4,
 "nbformat_minor": 2
}
