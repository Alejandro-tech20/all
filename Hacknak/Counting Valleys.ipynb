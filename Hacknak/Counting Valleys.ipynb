{
 "cells": [
  {
   "cell_type": "code",
   "execution_count": null,
   "metadata": {},
   "outputs": [],
   "source": [
    "# An avid hiker keeps meticulous records of their hikes. During the last hike that took exactly steps  steps, for every step it was noted if it was an uphill,U , or a downhill, D step. Hikes always start and end at sea level, and each step up or down represents a 1 unit change in altitude. We define the following terms:\n",
    "\n",
    "# A mountain is a sequence of consecutive steps above sea level, starting with a step up from sea level and ending with a step down to sea level.\n",
    "# A valley is a sequence of consecutive steps below sea level, starting with a step down from sea level and ending with a step up to sea level.\n",
    "# Given the sequence of up and down steps during a hike, find and print the number of valleys walked through."
   ]
  },
  {
   "cell_type": "code",
   "execution_count": 11,
   "metadata": {},
   "outputs": [],
   "source": [
    "\n",
    "def countingValleys(steps, path):\n",
    "    array_path = list(path)\n",
    "    valleys = 0\n",
    "    direcction = 0 \n",
    "    for step in array_path:\n",
    "        if step == 'U':\n",
    "            direcction +=1\n",
    "            if direcction == 0:\n",
    "                valleys +=1\n",
    "        else:\n",
    "            direcction -=1 \n",
    "    return valleys"
   ]
  },
  {
   "cell_type": "code",
   "execution_count": 12,
   "metadata": {},
   "outputs": [
    {
     "data": {
      "text/plain": [
       "1"
      ]
     },
     "execution_count": 12,
     "metadata": {},
     "output_type": "execute_result"
    }
   ],
   "source": [
    "countingValleys(5,\"UDDDUDUU\")"
   ]
  }
 ],
 "metadata": {
  "kernelspec": {
   "display_name": "backDashboard",
   "language": "python",
   "name": "python3"
  },
  "language_info": {
   "codemirror_mode": {
    "name": "ipython",
    "version": 3
   },
   "file_extension": ".py",
   "mimetype": "text/x-python",
   "name": "python",
   "nbconvert_exporter": "python",
   "pygments_lexer": "ipython3",
   "version": "3.11.5"
  }
 },
 "nbformat": 4,
 "nbformat_minor": 2
}
