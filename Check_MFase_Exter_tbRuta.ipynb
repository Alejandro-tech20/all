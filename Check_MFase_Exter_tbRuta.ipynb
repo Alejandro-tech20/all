{
 "cells": [
  {
   "cell_type": "code",
   "execution_count": 1,
   "metadata": {},
   "outputs": [],
   "source": [
    "from sqlalchemy import create_engine, text, bindparam, Integer\n",
    "from sqlalchemy.orm import sessionmaker\n",
    "import pandas as pd"
   ]
  },
  {
   "cell_type": "code",
   "execution_count": 38,
   "metadata": {},
   "outputs": [],
   "source": [
    "class CheckFase:\n",
    "    def __init__(self):\n",
    "        self.server_solmicro = r'srvsql'\n",
    "        self.database_solmicro = 'SolmicroERP6_PruebasSub'\n",
    "        self.username_solmicro = 'sa'\n",
    "        self.password_solmicro = 'Altai2021'\n",
    "        self.engine = create_engine(\n",
    "            f'mssql+pyodbc://{self.username_solmicro}:{self.password_solmicro}@{self.server_solmicro}/{self.database_solmicro}?driver=SQL+Server')\n",
    "        self.connection = None\n",
    "        self.tables_info = []\n",
    "        self.ruta_archivo = r'ArtIndustriConFase.xlsx'\n",
    "        self.hoja_excel = 'Hoja1'\n",
    "\n",
    "    def CargarExcel(self):\n",
    "        try:\n",
    "            datos_excel = pd.read_excel(\n",
    "                self.ruta_archivo, sheet_name=self.hoja_excel)\n",
    "            nombre_columna = 'ID'\n",
    "            columna_especifica = datos_excel['Articulo']\n",
    "            art_ids = set(item for item in columna_especifica)\n",
    "            return art_ids\n",
    "        except Exception as e:\n",
    "            print(\"Error Excel: \", e)\n",
    "\n",
    "    def Open_Conn_Solmicro(self):\n",
    "        try:\n",
    "            self.connection = self.engine.connect()\n",
    "            return self.connection\n",
    "        except Exception as e:\n",
    "            print(\"Error opening connection: \", e)\n",
    "\n",
    "    def getDatosRuta(self, datos_excel):\n",
    "        resultados = []\n",
    "        try:\n",
    "            conn = self.Open_Conn_Solmicro()\n",
    "            if conn:\n",
    "                for id in datos_excel:\n",
    "                    query = text(\n",
    "                        f\"SELECT TOP(1) IDArticulo, Secuencia FROM tbRuta WHERE (IDArticulo = '{id}') AND  TipoOperacion=1 AND IDCentro=4500\")\n",
    "                    result = conn.execute(query).fetchone()\n",
    "                    if not result:\n",
    "                        # print(result)\n",
    "                        resultados.append(id)\n",
    "                conn.close()\n",
    "            return resultados\n",
    "        except Exception as e:\n",
    "            print(\"Error en la consulta:\", e)\n",
    "            return resultados\n",
    "    \n",
    "    def getDatosArticulos(self, list_Arti):\n",
    "        resultados = []\n",
    "        try:\n",
    "            conn = self.Open_Conn_Solmicro()\n",
    "            if conn:\n",
    "                for id in list_Arti:\n",
    "                    query = text(\n",
    "                        f\"SELECT TOP(1) IDArticulo, DescArticulo,IDFamilia, IDTipo, IDSubfamilia FROM tbMaestroArticulo WHERE (IDArticulo = '{id}')\")\n",
    "                    result = conn.execute(query).fetchone()\n",
    "                    if result:\n",
    "                        # print(result)\n",
    "                        resultados.append(result)\n",
    "                conn.close()\n",
    "            return resultados\n",
    "        except Exception as e:\n",
    "            print(\"Error en la consulta:\", e)\n",
    "            return resultados\n",
    "    \n",
    "    @staticmethod\n",
    "    def export_to_excel(data):\n",
    "        df = pd.DataFrame(data,columns=[\"IDArticulo\",\"DescArticulo\",\"IDFamilia\",\"IDTipo\",\"IDSubfamilia\"])\n",
    "        df.to_excel(\"ArtiSinFase.xlsx\",index=False)"
   ]
  },
  {
   "cell_type": "code",
   "execution_count": 39,
   "metadata": {},
   "outputs": [],
   "source": [
    "iCheck = CheckFase()\n",
    "list_Art = iCheck.CargarExcel()"
   ]
  },
  {
   "cell_type": "code",
   "execution_count": 26,
   "metadata": {},
   "outputs": [],
   "source": [
    "art_no_fase = iCheck.getDatosRuta(datos_excel=list_Art)"
   ]
  },
  {
   "cell_type": "code",
   "execution_count": 36,
   "metadata": {},
   "outputs": [],
   "source": [
    "datos_Arti = iCheck.getDatosArticulos(list_Arti=art_no_fase)"
   ]
  },
  {
   "cell_type": "code",
   "execution_count": 40,
   "metadata": {},
   "outputs": [],
   "source": [
    "iCheck.export_to_excel(data=datos_Arti)"
   ]
  }
 ],
 "metadata": {
  "kernelspec": {
   "display_name": "flaskTaskPython",
   "language": "python",
   "name": "python3"
  },
  "language_info": {
   "codemirror_mode": {
    "name": "ipython",
    "version": 3
   },
   "file_extension": ".py",
   "mimetype": "text/x-python",
   "name": "python",
   "nbconvert_exporter": "python",
   "pygments_lexer": "ipython3",
   "version": "3.11.5"
  }
 },
 "nbformat": 4,
 "nbformat_minor": 2
}
