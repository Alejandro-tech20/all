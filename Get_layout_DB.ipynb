{
 "cells": [
  {
   "cell_type": "code",
   "execution_count": 7,
   "metadata": {},
   "outputs": [],
   "source": [
    "import json\n",
    "import pyodbc"
   ]
  },
  {
   "cell_type": "code",
   "execution_count": 14,
   "metadata": {},
   "outputs": [],
   "source": [
    "class LayoutDB:\n",
    "    def __init__(self):\n",
    "        self.server_solmicro = r'SERVIDOR\\SOLMICRO6'\n",
    "        self.database_solmicro = 'SolmicroERP6_PruebasSub'\n",
    "        self.username_solmicro = 'sa'\n",
    "        self.password_solmicro = 'Altai2021'\n",
    "        self.connection_string_solmicro = f'DRIVER={{SQL Server}};SERVER={self.server_solmicro};DATABASE={self.database_solmicro};UID={self.username_solmicro};PWD={self.password_solmicro}'\n",
    "        self.connection = None\n",
    "        self.tables_info = []\n",
    "\n",
    "    def Open_Conn_Solmicro(self):\n",
    "        try:\n",
    "            self.connection = pyodbc.connect(self.connection_string_solmicro)\n",
    "            return self.connection\n",
    "        except Exception as e:\n",
    "            print(\"Error opening connection: \", e)\n",
    "\n",
    "    def __del__(self):\n",
    "        self.CloseConnection()\n",
    "\n",
    "    def CloseConnection(self):\n",
    "        try:\n",
    "            self.connection = pyodbc.connect(self.connection_string_solmicro)\n",
    "            return self.connection\n",
    "        except Exception as e:\n",
    "            print(\"Error opening connection: \", e)\n",
    "\n",
    "    def export_tables(self):\n",
    "        cursor = self.connection.cursor()\n",
    "        # Obtener todas las tablas en la base de datos\n",
    "        tables_query = \"SELECT TABLE_NAME FROM INFORMATION_SCHEMA.TABLES WHERE TABLE_TYPE='BASE TABLE'\"\n",
    "        tables = cursor.execute(tables_query).fetchall()\n",
    "        for table in tables:\n",
    "            table_name = table[0]\n",
    "            table_info = {\n",
    "                'tableName': table_name,\n",
    "                'fields': []\n",
    "            }\n",
    "            # Obtener información sobre las columnas de la tabla\n",
    "            columns_query = f\"SELECT COLUMN_NAME, DATA_TYPE FROM INFORMATION_SCHEMA.COLUMNS WHERE TABLE_NAME='{table_name}'\"\n",
    "            columns = cursor.execute(columns_query).fetchall()\n",
    "            for column in columns:\n",
    "                column_name, column_type = column\n",
    "                field_info = {\n",
    "                    'nombre': column_name,\n",
    "                    'tipo': column_type\n",
    "                }\n",
    "                table_info['fields'].append(field_info)\n",
    "            self.tables_info.append(table_info)\n",
    "        cursor.close()\n",
    "        self.connection.close()\n",
    "        # return self.tables_info\n",
    "\n",
    "    def Create_Estructura(self):\n",
    "        final_structure = {\n",
    "            'role': 'system',\n",
    "            'content': json.dumps(self.tables_info, separators=(',', ':'))\n",
    "        }\n",
    "        # Guardar la estructura en un archivo de texto\n",
    "        with open('estructura_tablas.txt', 'w') as file:\n",
    "            file.write(str(final_structure))"
   ]
  },
  {
   "cell_type": "code",
   "execution_count": 15,
   "metadata": {},
   "outputs": [],
   "source": [
    "# instace_layoutDB = LayoutDB()\n",
    "# instace_layoutDB.Open_Conn_Solmicro()\n",
    "# instace_layoutDB.export_tables()\n",
    "# instace_layoutDB.Create_Estructura()"
   ]
  }
 ],
 "metadata": {
  "kernelspec": {
   "display_name": "notebook_work",
   "language": "python",
   "name": "python3"
  },
  "language_info": {
   "codemirror_mode": {
    "name": "ipython",
    "version": 3
   },
   "file_extension": ".py",
   "mimetype": "text/x-python",
   "name": "python",
   "nbconvert_exporter": "python",
   "pygments_lexer": "ipython3",
   "version": "3.11.5"
  },
  "orig_nbformat": 4
 },
 "nbformat": 4,
 "nbformat_minor": 2
}
