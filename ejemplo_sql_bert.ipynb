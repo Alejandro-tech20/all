{
 "cells": [
  {
   "cell_type": "code",
   "execution_count": 3,
   "metadata": {},
   "outputs": [],
   "source": [
    "import torch\n",
    "from transformers import BertForSequenceClassification, BertTokenizer\n",
    "import json\n",
    "\n",
    "class NLPToSQLConverter:\n",
    "    def __init__(self, model_name, tokenizer_name):\n",
    "        self.model = BertForSequenceClassification.from_pretrained(model_name)\n",
    "        self.tokenizer = BertTokenizer.from_pretrained(tokenizer_name)\n",
    "        self.tables = None\n",
    "        self.tables_from_file = None\n",
    "        self.ruta_file = r\"C:\\Users\\a.obregon\\source\\repos\\flaskTaskPython\\Models\\estructura_tablas.json\"\n",
    "\n",
    "    def convert_to_sql(self, query):\n",
    "        inputs = self.tokenizer(query, padding=True, truncation=True, return_tensors=\"pt\")\n",
    "        outputs = self.model(**inputs)\n",
    "        predicted_class = torch.argmax(outputs.logits).item()\n",
    "\n",
    "        # Aquí debes implementar la lógica para generar la consulta SQL en función del resultado de BERT.\n",
    "        # Puedes usar la variable predicted_class para determinar la acción deseada (SELECT, INSERT, UPDATE, DELETE, etc.).\n",
    "        # También puedes utilizar self.tables para encontrar las tablas en tu base de datos y ajustar la consulta SQL en consecuencia.\n",
    "\n",
    "        # Ejemplo de generación de consulta SQL de ejemplo:\n",
    "        if predicted_class == 0:\n",
    "            sql_query = \"SELECT * FROM \" + self.tables[0]  # Reemplaza esto con tu lógica real.\n",
    "\n",
    "        return sql_query\n",
    "    \n",
    "    def Get_context_data(self):\n",
    "        try:\n",
    "            with open(self.ruta_file, \"r\") as file:\n",
    "                self.tables = json.load(file)\n",
    "                # return self.estructure_db\n",
    "        except Exception as e:\n",
    "            print(\"Error al cargar\", e)\n",
    "            exit(1)\n",
    "\n"
   ]
  },
  {
   "cell_type": "code",
   "execution_count": null,
   "metadata": {},
   "outputs": [],
   "source": []
  },
  {
   "cell_type": "code",
   "execution_count": 5,
   "metadata": {},
   "outputs": [
    {
     "name": "stderr",
     "output_type": "stream",
     "text": [
      "Some weights of BertForSequenceClassification were not initialized from the model checkpoint at dccuchile/bert-base-spanish-wwm-cased and are newly initialized: ['bert.pooler.dense.bias', 'classifier.weight', 'classifier.bias', 'bert.pooler.dense.weight']\n",
      "You should probably TRAIN this model on a down-stream task to be able to use it for predictions and inference.\n"
     ]
    },
    {
     "ename": "UnboundLocalError",
     "evalue": "cannot access local variable 'sql_query' where it is not associated with a value",
     "output_type": "error",
     "traceback": [
      "\u001b[1;31m---------------------------------------------------------------------------\u001b[0m",
      "\u001b[1;31mUnboundLocalError\u001b[0m                         Traceback (most recent call last)",
      "\u001b[1;32md:\\Repo\\Notebook_Work\\ejemplo_sql_bert.ipynb Cell 3\u001b[0m line \u001b[0;36m6\n\u001b[0;32m      <a href='vscode-notebook-cell:/d%3A/Repo/Notebook_Work/ejemplo_sql_bert.ipynb#W1sZmlsZQ%3D%3D?line=3'>4</a>\u001b[0m nlp_converter\u001b[39m.\u001b[39mGet_context_data()\n\u001b[0;32m      <a href='vscode-notebook-cell:/d%3A/Repo/Notebook_Work/ejemplo_sql_bert.ipynb#W1sZmlsZQ%3D%3D?line=4'>5</a>\u001b[0m query \u001b[39m=\u001b[39m \u001b[39m\"\u001b[39m\u001b[39mmuestrame el id de los primeros 5 articulos que sean de tipo 01\u001b[39m\u001b[39m\"\u001b[39m\n\u001b[1;32m----> <a href='vscode-notebook-cell:/d%3A/Repo/Notebook_Work/ejemplo_sql_bert.ipynb#W1sZmlsZQ%3D%3D?line=5'>6</a>\u001b[0m sql_query \u001b[39m=\u001b[39m nlp_converter\u001b[39m.\u001b[39;49mconvert_to_sql(query)\n\u001b[0;32m      <a href='vscode-notebook-cell:/d%3A/Repo/Notebook_Work/ejemplo_sql_bert.ipynb#W1sZmlsZQ%3D%3D?line=6'>7</a>\u001b[0m \u001b[39mprint\u001b[39m(\u001b[39m\"\u001b[39m\u001b[39mConsulta SQL generada:\u001b[39m\u001b[39m\"\u001b[39m, sql_query)\n",
      "\u001b[1;32md:\\Repo\\Notebook_Work\\ejemplo_sql_bert.ipynb Cell 3\u001b[0m line \u001b[0;36m2\n\u001b[0;32m     <a href='vscode-notebook-cell:/d%3A/Repo/Notebook_Work/ejemplo_sql_bert.ipynb#W1sZmlsZQ%3D%3D?line=22'>23</a>\u001b[0m \u001b[39mif\u001b[39;00m predicted_class \u001b[39m==\u001b[39m \u001b[39m0\u001b[39m:\n\u001b[0;32m     <a href='vscode-notebook-cell:/d%3A/Repo/Notebook_Work/ejemplo_sql_bert.ipynb#W1sZmlsZQ%3D%3D?line=23'>24</a>\u001b[0m     sql_query \u001b[39m=\u001b[39m \u001b[39m\"\u001b[39m\u001b[39mSELECT * FROM \u001b[39m\u001b[39m\"\u001b[39m \u001b[39m+\u001b[39m \u001b[39mself\u001b[39m\u001b[39m.\u001b[39mtables[\u001b[39m0\u001b[39m]  \u001b[39m# Reemplaza esto con tu lógica real.\u001b[39;00m\n\u001b[1;32m---> <a href='vscode-notebook-cell:/d%3A/Repo/Notebook_Work/ejemplo_sql_bert.ipynb#W1sZmlsZQ%3D%3D?line=25'>26</a>\u001b[0m \u001b[39mreturn\u001b[39;00m sql_query\n",
      "\u001b[1;31mUnboundLocalError\u001b[0m: cannot access local variable 'sql_query' where it is not associated with a value"
     ]
    }
   ],
   "source": [
    "# Ejemplo de uso:\n",
    "\n",
    "nlp_converter = NLPToSQLConverter(\"dccuchile/bert-base-spanish-wwm-cased\", \"dccuchile/bert-base-spanish-wwm-cased\")\n",
    "nlp_converter.Get_context_data()\n",
    "query = \"muestrame el id de los primeros 5 articulos que sean de tipo 01\"\n",
    "sql_query = nlp_converter.convert_to_sql(query)\n",
    "print(\"Consulta SQL generada:\", sql_query)\n"
   ]
  }
 ],
 "metadata": {
  "kernelspec": {
   "display_name": "notebook_work",
   "language": "python",
   "name": "python3"
  },
  "language_info": {
   "codemirror_mode": {
    "name": "ipython",
    "version": 3
   },
   "file_extension": ".py",
   "mimetype": "text/x-python",
   "name": "python",
   "nbconvert_exporter": "python",
   "pygments_lexer": "ipython3",
   "version": "3.11.5"
  },
  "orig_nbformat": 4
 },
 "nbformat": 4,
 "nbformat_minor": 2
}
