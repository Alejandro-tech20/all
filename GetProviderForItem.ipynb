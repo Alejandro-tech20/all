{
 "cells": [
  {
   "cell_type": "code",
   "execution_count": 4,
   "metadata": {},
   "outputs": [],
   "source": [
    "import pyodbc\n",
    "import pandas as pd"
   ]
  },
  {
   "cell_type": "code",
   "execution_count": 147,
   "metadata": {},
   "outputs": [],
   "source": [
    "class MainConexion:\n",
    "    def __init__(self):\n",
    "        self.server_solmicro = r'srvsql'\n",
    "        self.server_industry = r'SERVIDOR'\n",
    "        self.database_solmicro = 'SolmicroERP6_PruebasSub'\n",
    "        self.database_industry = 'IPFavram'\n",
    "        self.username_solmicro = 'sa'\n",
    "        self.password_solmicro = 'Altai2021'\n",
    "        self.password_industry = '71zl6p9h'\n",
    "        self.connection_string_solmicro = f'DRIVER={{SQL Server}};SERVER={self.server_solmicro};DATABASE={self.database_solmicro};UID={self.username_solmicro};PWD={self.password_solmicro}'\n",
    "        self.connection_string_industry = f'DRIVER={{SQL Server}};SERVER={self.server_industry};DATABASE={self.database_industry};UID={self.username_solmicro};PWD={self.password_industry}'\n",
    "        self.connection = None\n",
    "        self.connection_industry = None\n",
    "        self.tables_info = []\n",
    "\n",
    "    def Open_Conn_Solmicro(self):\n",
    "        try:\n",
    "            self.connection = pyodbc.connect(self.connection_string_solmicro)\n",
    "        except Exception as e:\n",
    "            print(\"Error opening connection: \", e)\n",
    "\n",
    "    def Open_Conn_Industry(self):\n",
    "        try:\n",
    "            self.connection_industry = pyodbc.connect(self.connection_string_industry)\n",
    "        except Exception as e:\n",
    "            print(\"Error opening connection: \", e)\n",
    "\n",
    "    def __del__(self):\n",
    "        self.CloseConnection()\n",
    "\n",
    "    def CloseConnection(self):\n",
    "        try:\n",
    "            self.connection = pyodbc.connect(self.connection_string_solmicro)\n",
    "        except Exception as e:\n",
    "            print(\"Error opening connection: \", e)\n",
    "\n",
    "    def CloseConnectionIndustry(self):\n",
    "        try:\n",
    "            self.connection_industry = pyodbc.connect(self.connection_string_industry)\n",
    "        except Exception as e:\n",
    "            print(\"Error opening connection: \", e)\n",
    "\n",
    "    def RunQuery(self,stringQuery):\n",
    "        cursor = self.connection.cursor()\n",
    "        registers = cursor.execute(stringQuery).fetchall()\n",
    "        cursor.close()\n",
    "        return registers\n",
    "        # return pd.read_sql(sql=stringQuery,con=self.connection)\n",
    "\n",
    "    def RunQueryIndustry(self,stringQuery):\n",
    "        cursor = self.connection_industry.cursor()\n",
    "        registers = cursor.execute(stringQuery).fetchall()\n",
    "        cursor.close()\n",
    "        return registers\n",
    "\n",
    "    @staticmethod\n",
    "    def get_arti_faltantes(resultArtil,result_art_provee):\n",
    "        # Crear un diccionario con IDArticulo como clave y DescArticulo como valor\n",
    "        artil_dict = {item[0]: item[1] for item in resultArtil}\n",
    "        # Obtener solo los IDArticulo de result_art_provee\n",
    "        art_provee_ids = set(item[0] for item in result_art_provee)\n",
    "        # Encontrar los IDArticulo faltantes y mantener el DescArticulo correspondiente\n",
    "        missing_items = [(artil_id, artil_dict[artil_id]) for artil_id in artil_dict if artil_id not in art_provee_ids]\n",
    "        return missing_items\n",
    "    \n",
    "    @staticmethod\n",
    "    def get_final_art(missing_items,result_art_provee_industry):\n",
    "        artil_dict = {item[0]: item[1:] for item in result_art_provee_industry}\n",
    "        art_provee_ids = set(item[0] for item in missing_items)\n",
    "        result_items = [(artil_id, *artil_dict[artil_id]) for artil_id in artil_dict if artil_id  in art_provee_ids]\n",
    "        return result_items\n",
    "    @staticmethod\n",
    "    def missing_providers(proveedores,data):\n",
    "        set_data_proveedores = set(item[1] for item in data if item[1])\n",
    "        set_provee = set(item[0] for item in proveedores)\n",
    "        provee_dict = {item[0]: item[1] for item in proveedores}\n",
    "        result_missing_proveedores = [(provee) for provee in set_data_proveedores if provee and provee not in set_provee]\n",
    "        return result_missing_proveedores\n",
    "\n",
    "    @staticmethod\n",
    "    def export_to_excel(data):\n",
    "        df = pd.DataFrame(data,columns=[\"IDArticulo\",\"Proveedor\",\"Plazo\",\"Precio\"])\n",
    "        df.to_excel(\"articulos_sin_proveedor.xlsx\",index=False)\n",
    "        "
   ]
  },
  {
   "cell_type": "code",
   "execution_count": 148,
   "metadata": {},
   "outputs": [],
   "source": [
    "i_Conexion = MainConexion()\n",
    "i_Conexion.Open_Conn_Solmicro()\n",
    "query_string = r\"select IDArticulo, DescArticulo from tbMaestroArticulo where IDTipo= '04'\"\n",
    "resultArtil = i_Conexion.RunQuery(query_string)\n",
    "query_string_art_prove = r\"select IDArticulo from tbArticuloProveedor\"\n",
    "result_art_provee = i_Conexion.RunQuery(query_string_art_prove)\n",
    "i_Conexion.Open_Conn_Industry()\n",
    "query_string_art_industry = r\"SELECT  CodigoArticulo, ProveedorHabitual, PlazoAprovisionam, PrecioCosteStandard FROM MArticulo WHERE  (ProveedorHabitual IS NOT NULL)\"\n",
    "result_art_provee_industry = i_Conexion.RunQueryIndustry(query_string_art_industry)\n",
    "missing_items = i_Conexion.get_arti_faltantes(resultArtil,result_art_provee)\n",
    "result_art = i_Conexion.get_final_art(missing_items=missing_items,result_art_provee_industry=result_art_provee_industry)\n",
    "query_string_proveedores = r\"select IDProveedor,DescProveedor from tbMaestroProveedor\"\n",
    "proveedores = i_Conexion.RunQuery(query_string_proveedores)"
   ]
  },
  {
   "cell_type": "code",
   "execution_count": 149,
   "metadata": {},
   "outputs": [],
   "source": [
    "missing_provider = i_Conexion.missing_providers(proveedores,data=result_art)"
   ]
  },
  {
   "cell_type": "code",
   "execution_count": 150,
   "metadata": {},
   "outputs": [
    {
     "data": {
      "text/plain": [
       "['321',\n",
       " '1130',\n",
       " '1129',\n",
       " '217',\n",
       " '1111',\n",
       " '1120',\n",
       " '1139',\n",
       " '1094',\n",
       " '614',\n",
       " '1118',\n",
       " '1132',\n",
       " '163',\n",
       " '923',\n",
       " '1093',\n",
       " '31',\n",
       " '441',\n",
       " '75',\n",
       " '1128',\n",
       " '1092',\n",
       " '24',\n",
       " '1133',\n",
       " '1126',\n",
       " '1091',\n",
       " '1095',\n",
       " '1107',\n",
       " '1090',\n",
       " '1096',\n",
       " '1109']"
      ]
     },
     "execution_count": 150,
     "metadata": {},
     "output_type": "execute_result"
    }
   ],
   "source": [
    "missing_provider"
   ]
  },
  {
   "cell_type": "code",
   "execution_count": 109,
   "metadata": {},
   "outputs": [],
   "source": [
    "i_Conexion.export_to_excel(data=result_art)"
   ]
  }
 ],
 "metadata": {
  "kernelspec": {
   "display_name": "flaskTaskPython",
   "language": "python",
   "name": "python3"
  },
  "language_info": {
   "codemirror_mode": {
    "name": "ipython",
    "version": 3
   },
   "file_extension": ".py",
   "mimetype": "text/x-python",
   "name": "python",
   "nbconvert_exporter": "python",
   "pygments_lexer": "ipython3",
   "version": "3.11.5"
  }
 },
 "nbformat": 4,
 "nbformat_minor": 2
}
