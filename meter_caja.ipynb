{
 "cells": [
  {
   "cell_type": "code",
   "execution_count": 4,
   "metadata": {},
   "outputs": [],
   "source": [
    "from sqlalchemy import create_engine, text, bindparam, Integer\n",
    "from sqlalchemy.orm import sessionmaker\n",
    "import pandas as pd"
   ]
  },
  {
   "cell_type": "code",
   "execution_count": 19,
   "metadata": {},
   "outputs": [],
   "source": [
    "class MeterCaja:\n",
    "    def __init__(self):\n",
    "        self.server_solmicro = r'srvsql'\n",
    "        self.database_solmicro = 'SolmicroERP6_PruebasSub'\n",
    "        self.username_solmicro = 'sa'\n",
    "        self.password_solmicro = 'Altai2021'\n",
    "        self.engine = create_engine(f'mssql+pyodbc://{self.username_solmicro}:{self.password_solmicro}@{self.server_solmicro}/{self.database_solmicro}?driver=SQL+Server')\n",
    "        self.connection = None\n",
    "        self.tables_info = []\n",
    "        self.ruta_archivo = r'final.xlsx'\n",
    "        self.hoja_excel = 'Hoja2'\n",
    "        self.listArticulos = [443000021633, 442295636741, 443000021629, 443000022021, 443000022026, 443000022027, 443000021525, 443000021559, 443000021561, 443000021562, 443000021563,443000021565, 443000022076, 442296340551, 443000021582, 443000021583, 443000021584, 443000021585, 443000021627, 443000022005, 443000021626, 443000021625, 443000016122, 443000021628]\n",
    "\n",
    "    def CargarExcel(self):\n",
    "        try:\n",
    "            datos_excel = pd.read_excel(self.ruta_archivo, sheet_name=self.hoja_excel)\n",
    "            nombre_columna = 'ID'\n",
    "            columna_especifica = datos_excel['ID']\n",
    "            art_ids = set(item for item in columna_especifica)\n",
    "            return art_ids\n",
    "        except Exception as e:\n",
    "            print(\"Error Excel: \", e)\n",
    "\n",
    "    def Open_Conn_Solmicro(self):\n",
    "        try:\n",
    "            self.connection = self.engine.connect()\n",
    "            return self.connection\n",
    "        except Exception as e:\n",
    "            print(\"Error opening connection: \", e)\n",
    "\n",
    "    def CargarExcel(self):\n",
    "        try:\n",
    "            datos_excel = pd.read_excel(self.ruta_archivo, sheet_name=self.hoja_excel)\n",
    "            nombre_columna = 'ID'  \n",
    "            columna_especifica = datos_excel['ID'] \n",
    "            art_ids = set(item for item in columna_especifica) \n",
    "            return art_ids\n",
    "        except Exception as e:\n",
    "            print(\"Error Excel: \",e)\n",
    "    \n",
    "    def getDatosRuta(self, datos_excel):\n",
    "        resultados = []\n",
    "        try:\n",
    "            conn = self.Open_Conn_Solmicro()\n",
    "            if conn:\n",
    "                for id in datos_excel:\n",
    "                    query = text(f\"SELECT TOP(1) IDArticulo, Secuencia FROM tbRuta WHERE (IDArticulo = '{id}') ORDER BY Secuencia\")\n",
    "                    result = conn.execute(query).fetchone()\n",
    "                    if result:\n",
    "                        # print(result)\n",
    "                        resultados.append(result)\n",
    "                conn.close()\n",
    "            return resultados\n",
    "        except Exception as e:\n",
    "            print(\"Error en la consulta:\", e)\n",
    "            return resultados\n",
    "        \n",
    "    def insertSecc(self,List_id, autonumeric):\n",
    "        idx = 0\n",
    "        conn = None\n",
    "        try:\n",
    "            conn = self.Open_Conn_Solmicro()\n",
    "            if conn:\n",
    "                for id, sec in List_id:\n",
    "                    idx = idx + 1\n",
    "                    if(sec == 5):\n",
    "                        stringInsert = text(f\"insert into tbRuta ([IDRutaOp], [IDArticulo], [IDRuta], [Secuencia], [TipoOperacion], [IDOperacion], [DescOperacion], [Critica], [IDCentro], [FactorHombre], [IDUdProduccion], [UdTiempo],[FactorProduccion], [ControlProduccion], [UdTiempoPrep], [UdTiempoEjec], [FechaCreacionAudi], [FechaModificacionAudi],[UsuarioAudi], [UsuarioCreacionAudi]) values ({autonumeric[idx]}, N'{id}', N'01', 6, 0, N'6', N'METER CAJA EMBALAJE + INDICAR MAXIMO PIEZAS CAJA Y  PALET S/ LISTA', 0, N'1200', 1, N'u.', 2, 1, 1, 2, 2, '20231123 10:36:58.865', '20231123 10:36:58.865', N'favram\\a.obregon', N'favram\\a.obregon')\")\n",
    "                        conn.execute(stringInsert)\n",
    "                        conn.commit()\n",
    "                    else:\n",
    "                        stringInsert = text(f\"insert into tbRuta ([IDRutaOp], [IDArticulo], [IDRuta], [Secuencia], [TipoOperacion], [IDOperacion], [DescOperacion], [Critica], [IDCentro], [FactorHombre], [IDUdProduccion], [UdTiempo],[FactorProduccion], [ControlProduccion], [UdTiempoPrep], [UdTiempoEjec], [FechaCreacionAudi], [FechaModificacionAudi],[UsuarioAudi], [UsuarioCreacionAudi]) values ({autonumeric[idx]}, N'{id}', N'01', 5, 0, N'5', N'METER CAJA EMBALAJE + INDICAR MAXIMO PIEZAS CAJA Y  PALET S/ LISTA', 0, N'1200', 1, N'u.', 2, 1, 1, 2, 2, '20231123 10:36:58.865', '20231123 10:36:58.865', N'favram\\a.obregon', N'favram\\a.obregon')\")\n",
    "                        conn.execute(stringInsert)\n",
    "                        conn.commit()\n",
    "        except Exception as e:\n",
    "            print(\"Error ejecutando el procedimiento almacenado:\", e)\n",
    "            return None\n",
    "        finally:\n",
    "            if conn:\n",
    "                conn.close()\n",
    "    \n",
    "    def insertDocuments(self,articulos,autonumeric):\n",
    "        idx = 0\n",
    "        conn = None\n",
    "        try:\n",
    "            conn = self.Open_Conn_Solmicro()\n",
    "            if conn:\n",
    "                for id in articulos:\n",
    "                    print(id)\n",
    "                    stringInsert = text(f\"insert into tbDcmDocumentoEntidad ([IDDocEntidad], [Entidad], [IdDocumento], [Campo1], [Valor1], [FechaCreacionAudi], [FechaModificacionAudi], [UsuarioAudi], [UsuarioCreacionAudi]) values ({autonumeric[idx]}, N'Articulo', 19606213, N'IDArticulo', N'{id}', '20231124 08:09:58.424', '20231124 08:09:58.424', N'favram\\a.obregon', N'favram\\a.obregon')\")\n",
    "                    conn.execute(stringInsert)\n",
    "                    conn.commit()\n",
    "                    idx = idx + 1\n",
    "        except Exception as e:\n",
    "            print(\"Error de insercion\", e)\n",
    "            return None\n",
    "        finally:\n",
    "            if conn:\n",
    "                conn.close()\n",
    "        \n",
    "\n",
    "\n",
    "    def RunProcedure(self,datosExcel):\n",
    "        conn = None\n",
    "        try:\n",
    "            conn = self.Open_Conn_Solmicro()\n",
    "            if conn:\n",
    "                for dato in datosExcel:\n",
    "                    query = text(\"EXEC xAutonumericValue;\")\n",
    "                    conn.execute(query)\n",
    "                    conn.commit()\n",
    "        except Exception as e:\n",
    "            print(\"Error ejecutando el procedimiento almacenado:\", e)\n",
    "            return None\n",
    "        finally:\n",
    "            if conn:\n",
    "                conn.close()\n",
    "\n",
    "    def GetAutonumericValue(self):\n",
    "        conn = None\n",
    "        try:\n",
    "            conn = self.Open_Conn_Solmicro()\n",
    "            if conn:\n",
    "                query = text(\"SELECT autonumber FROM  ale_autoNumber\")\n",
    "                result = conn.execute(query).fetchall()\n",
    "                final_result = [ value for row in result for value in row ]\n",
    "                return final_result\n",
    "        except Exception as e:\n",
    "            print(\"Error ejecutando el procedimiento almacenado:\", e)\n",
    "            return None\n",
    "        finally:\n",
    "            if conn:\n",
    "                conn.close()"
   ]
  },
  {
   "cell_type": "code",
   "execution_count": 20,
   "metadata": {},
   "outputs": [],
   "source": [
    "\n",
    "micaja = MeterCaja()\n",
    "# datosExcel = micaja.CargarExcel()\n",
    "\n",
    "# autonumeric = micaja.GetAutonumericValue()"
   ]
  },
  {
   "cell_type": "code",
   "execution_count": 7,
   "metadata": {},
   "outputs": [],
   "source": [
    "listSet = list(set(micaja.listArticulos) - set([443000022021, 443000016122]) - set([443000021633, 442295636741, 443000021629]))"
   ]
  },
  {
   "cell_type": "code",
   "execution_count": 8,
   "metadata": {},
   "outputs": [],
   "source": [
    "micaja.RunProcedure(datosExcel=listSet)"
   ]
  },
  {
   "cell_type": "code",
   "execution_count": 9,
   "metadata": {},
   "outputs": [],
   "source": [
    "autonumeric = micaja.GetAutonumericValue()"
   ]
  },
  {
   "cell_type": "code",
   "execution_count": 21,
   "metadata": {},
   "outputs": [],
   "source": [
    "list_id = micaja.getDatosRuta(datos_excel=listSet)"
   ]
  },
  {
   "cell_type": "code",
   "execution_count": 22,
   "metadata": {},
   "outputs": [
    {
     "data": {
      "text/plain": [
       "[('443000021565', 1),\n",
       " ('442296340551', 1),\n",
       " ('443000022026', 1),\n",
       " ('443000022027', 1),\n",
       " ('443000021582', 1),\n",
       " ('443000021583', 1),\n",
       " ('443000021584', 1),\n",
       " ('443000021585', 1),\n",
       " ('443000022076', 1),\n",
       " ('443000021525', 1),\n",
       " ('443000021563', 1),\n",
       " ('443000021561', 1),\n",
       " ('443000021562', 1),\n",
       " ('443000022005', 1),\n",
       " ('443000021559', 1),\n",
       " ('443000021625', 1),\n",
       " ('443000021626', 1),\n",
       " ('443000021627', 1),\n",
       " ('443000021628', 1)]"
      ]
     },
     "execution_count": 22,
     "metadata": {},
     "output_type": "execute_result"
    }
   ],
   "source": [
    "list_id"
   ]
  },
  {
   "cell_type": "code",
   "execution_count": 23,
   "metadata": {},
   "outputs": [
    {
     "name": "stdout",
     "output_type": "stream",
     "text": [
      "Error ejecutando el procedimiento almacenado: list index out of range\n"
     ]
    }
   ],
   "source": [
    "micaja.insertSecc(List_id=list_id,autonumeric=autonumeric)"
   ]
  },
  {
   "cell_type": "code",
   "execution_count": 78,
   "metadata": {},
   "outputs": [],
   "source": [
    "# micaja.insertSecc(datosRutas,autonumeric=autonumeric)"
   ]
  }
 ],
 "metadata": {
  "kernelspec": {
   "display_name": "flasktaskpython",
   "language": "python",
   "name": "python3"
  },
  "language_info": {
   "codemirror_mode": {
    "name": "ipython",
    "version": 3
   },
   "file_extension": ".py",
   "mimetype": "text/x-python",
   "name": "python",
   "nbconvert_exporter": "python",
   "pygments_lexer": "ipython3",
   "version": "3.11.5"
  }
 },
 "nbformat": 4,
 "nbformat_minor": 2
}
