{
 "cells": [
  {
   "cell_type": "code",
   "execution_count": 1,
   "metadata": {},
   "outputs": [],
   "source": [
    "from sqlalchemy import create_engine, text, bindparam, Integer\n",
    "from sqlalchemy.orm import sessionmaker\n",
    "import pandas as pd"
   ]
  },
  {
   "cell_type": "code",
   "execution_count": 15,
   "metadata": {},
   "outputs": [],
   "source": [
    "class ArticuloEspesor:\n",
    "    def __init__(self):\n",
    "        self.server_solmicro = r'srvsql'\n",
    "        self.server_industry = r'SERVIDOR'\n",
    "        self.database_solmicro = 'SolmicroERP6_PruebasSub'\n",
    "        self.database_industry = 'IPFavram'\n",
    "        self.username_solmicro = 'sa'\n",
    "        self.password_solmicro = 'Altai2021'\n",
    "        self.password_industry = '71zl6p9h'\n",
    "        self.connection_string_solmicro = create_engine(\n",
    "            f'mssql+pyodbc://{self.username_solmicro}:{self.password_solmicro}@{self.server_solmicro}/{self.database_solmicro}?driver=SQL+Server')\n",
    "        self.connection_string_industry = create_engine(\n",
    "            f'mssql+pyodbc://{self.username_solmicro}:{self.password_industry}@{self.server_industry}/{self.database_industry}?driver=SQL+Server')\n",
    "        self.connection = None\n",
    "        self.connection_industry = None\n",
    "        self.connection_solmicro = f'DRIVER={{SQL Server}};SERVER={self.server_solmicro};DATABASE={self.database_solmicro};UID={self.username_solmicro};PWD={self.password_solmicro}'\n",
    "        self.ruta_archivo = r'ArtiConProveedorIndustry.xlsx' \n",
    "        self.hoja_excel = 'Sheet1'  \n",
    "\n",
    "    def Open_Conn_Solmicro(self):\n",
    "        try:\n",
    "            self.connection = self.connection_string_solmicro.connect()\n",
    "            return self.connection\n",
    "        except Exception as e:\n",
    "            print(\"Error opening connection: \", e)\n",
    "\n",
    "    def Open_Conn_Industry(self):\n",
    "        try:\n",
    "            self.connection = self.connection_string_industry.connect()\n",
    "            return self.connection\n",
    "        except Exception as e:\n",
    "            print(\"Error opening connection: \", e)\n",
    "\n",
    "    def getArtFromIndustry(self):\n",
    "        resultados = []\n",
    "        try:\n",
    "            conn = self.Open_Conn_Industry()\n",
    "            if conn:\n",
    "                query = text(f\"select CodigoArticulo, Espesor from MArticuloChapas\")\n",
    "                result = conn.execute(query).fetchall()\n",
    "                if result:\n",
    "                    resultados.extend(result)\n",
    "                conn.close()\n",
    "            return resultados\n",
    "        except Exception as e:\n",
    "            print(\"Error en la consulta:\", e)\n",
    "            if conn:\n",
    "                conn.close()\n",
    "\n",
    "    def checkArtInSeolmicro(self,listArticle):\n",
    "        resultados = []\n",
    "        try:\n",
    "            conn = self.Open_Conn_Solmicro()\n",
    "            if conn:\n",
    "                for id,espesor in listArticle:\n",
    "                    query = text(f\"SELECT IDArticulo FROM tbMaestroArticulo WHERE (IDArticulo = N'{id}')\")\n",
    "                    result = conn.execute(query).fetchone()\n",
    "                    if result:\n",
    "                        updateQuery = text(f\"UPDATE tbMaestroArticulo SET Espesor =N'{espesor}' WHERE (IDArticulo = N'{id}')\")\n",
    "                        conn.execute(updateQuery)\n",
    "                        resultados.append(id)\n",
    "                conn.commit()\n",
    "                conn.close()\n",
    "            return resultados\n",
    "        except Exception as e:\n",
    "            print(\"Error en la consulta:\", e)\n",
    "            return resultados\n"
   ]
  },
  {
   "cell_type": "code",
   "execution_count": 16,
   "metadata": {},
   "outputs": [],
   "source": [
    "iEspesor = ArticuloEspesor()"
   ]
  },
  {
   "cell_type": "code",
   "execution_count": 17,
   "metadata": {},
   "outputs": [],
   "source": [
    "listArtIndustry = iEspesor.getArtFromIndustry()"
   ]
  },
  {
   "cell_type": "code",
   "execution_count": 18,
   "metadata": {},
   "outputs": [
    {
     "data": {
      "text/plain": [
       "844"
      ]
     },
     "execution_count": 18,
     "metadata": {},
     "output_type": "execute_result"
    }
   ],
   "source": [
    "len(listArtIndustry)"
   ]
  },
  {
   "cell_type": "code",
   "execution_count": 19,
   "metadata": {},
   "outputs": [],
   "source": [
    "checkArti= iEspesor.checkArtInSeolmicro(listArticle=listArtIndustry)"
   ]
  },
  {
   "cell_type": "code",
   "execution_count": 9,
   "metadata": {},
   "outputs": [
    {
     "data": {
      "text/plain": [
       "844"
      ]
     },
     "execution_count": 9,
     "metadata": {},
     "output_type": "execute_result"
    }
   ],
   "source": [
    "len(checkArti)"
   ]
  }
 ],
 "metadata": {
  "kernelspec": {
   "display_name": "flasktaskpython",
   "language": "python",
   "name": "python3"
  },
  "language_info": {
   "codemirror_mode": {
    "name": "ipython",
    "version": 3
   },
   "file_extension": ".py",
   "mimetype": "text/x-python",
   "name": "python",
   "nbconvert_exporter": "python",
   "pygments_lexer": "ipython3",
   "version": "3.11.5"
  }
 },
 "nbformat": 4,
 "nbformat_minor": 2
}
