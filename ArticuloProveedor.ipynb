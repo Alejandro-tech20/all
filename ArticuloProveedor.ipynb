{
 "cells": [
  {
   "cell_type": "code",
   "execution_count": 1,
   "metadata": {},
   "outputs": [],
   "source": [
    "from sqlalchemy import create_engine, text, bindparam, Integer\n",
    "from sqlalchemy.orm import sessionmaker\n",
    "import pandas as pd"
   ]
  },
  {
   "cell_type": "code",
   "execution_count": 149,
   "metadata": {},
   "outputs": [],
   "source": [
    "class ArticuloProveedor:\n",
    "    def __init__(self):\n",
    "        self.server_solmicro = r'srvsql'\n",
    "        self.server_industry = r'SERVIDOR'\n",
    "        self.database_solmicro = 'SolmicroERP6_PruebasSub'\n",
    "        self.database_industry = 'IPFavram'\n",
    "        self.username_solmicro = 'sa'\n",
    "        self.password_solmicro = 'Altai2021'\n",
    "        self.password_industry = '71zl6p9h'\n",
    "        self.connection_string_solmicro = create_engine(\n",
    "            f'mssql+pyodbc://{self.username_solmicro}:{self.password_solmicro}@{self.server_solmicro}/{self.database_solmicro}?driver=SQL+Server')\n",
    "        self.connection_string_industry = create_engine(\n",
    "            f'mssql+pyodbc://{self.username_solmicro}:{self.password_industry}@{self.server_industry}/{self.database_industry}?driver=SQL+Server')\n",
    "        self.connection = None\n",
    "        self.connection_industry = None\n",
    "        self.connection_solmicro = f'DRIVER={{SQL Server}};SERVER={self.server_solmicro};DATABASE={self.database_solmicro};UID={self.username_solmicro};PWD={self.password_solmicro}'\n",
    "        self.ruta_archivo = r'ArtiConProveedorIndustry.xlsx' \n",
    "        self.hoja_excel = 'Sheet1'  \n",
    "\n",
    "    def CargarExcel(self,nameColumn):\n",
    "        try:\n",
    "            datos_excel = pd.read_excel(self.ruta_archivo, sheet_name=self.hoja_excel)\n",
    "            columna_especifica = datos_excel[nameColumn] \n",
    "            art_ids = list(set(round(item) for item in columna_especifica if pd.notnull(item)))\n",
    "            return art_ids\n",
    "        except Exception as e:\n",
    "            print(\"Error Excel: \",e)\n",
    "    \n",
    "    def ExcelArtProveedor(self,listProvedore):\n",
    "        try:\n",
    "            datos_excel = pd.read_excel(self.ruta_archivo, sheet_name=self.hoja_excel)\n",
    "            ProveedorHabitual = datos_excel[\"ProveedorHabitual\"]\n",
    "            CodigoArticulo = datos_excel[\"CodigoArticulo\"]\n",
    "            filtered_data = datos_excel[ProveedorHabitual.isin(listProvedore)]\n",
    "            art_codigos_proveedores = list(zip(filtered_data[\"CodigoArticulo\"], round(filtered_data[\"ProveedorHabitual\"])))\n",
    "            return art_codigos_proveedores\n",
    "        except Exception as e:\n",
    "            print(\"Error Excel: \",e)\n",
    "\n",
    "    \n",
    "    def Open_Conn_Solmicro(self):\n",
    "        try:\n",
    "            self.connection = self.connection_string_solmicro.connect()\n",
    "            return self.connection\n",
    "        except Exception as e:\n",
    "            print(\"Error opening connection: \", e)\n",
    "\n",
    "    def Open_Conn_Industry(self):\n",
    "        try:\n",
    "            self.connection = self.connection_string_industry.connect()\n",
    "            return self.connection\n",
    "        except Exception as e:\n",
    "            print(\"Error opening connection: \", e)\n",
    "\n",
    "    def getArtCompra(self):\n",
    "        try:\n",
    "            conn = self.Open_Conn_Solmicro()\n",
    "            if conn:\n",
    "                query = text(f\"select IDArticulo from tbMaestroArticulo where IDTipo = '04' AND IDFamilia>N'4000' AND IDFamilia <N'4200' AND IDFamilia <>N'4020'\")\n",
    "                result = conn.execute(query).fetchall()\n",
    "                conn.close()\n",
    "                list_ids = [row[0] for row in result] if result else []\n",
    "            return list_ids\n",
    "        except Exception as e:\n",
    "            print(\"Error en la consulta:\", e)\n",
    "            if conn:\n",
    "                conn.close()\n",
    "\n",
    "    def getArtCompraConProveedor(self):\n",
    "        try:\n",
    "            conn = self.Open_Conn_Solmicro()\n",
    "            if conn:\n",
    "                query = text(f\"SELECT tbMaestroArticulo.IDArticulo FROM tbMaestroArticulo INNER JOIN tbArticuloProveedor ON tbMaestroArticulo.IDArticulo = tbArticuloProveedor.IDArticulo WHERE (tbMaestroArticulo.IDTipo = N'04') AND (tbMaestroArticulo.IDFamilia > N'4000') AND (tbMaestroArticulo.IDFamilia < N'4200') AND (tbMaestroArticulo.IDFamilia <>N'4020')\")\n",
    "                result = conn.execute(query).fetchall()\n",
    "                conn.close()\n",
    "                list_ids = [row[0] for row in result] if result else []\n",
    "            return list_ids\n",
    "        except Exception as e:\n",
    "            print(\"Error en la consulta:\", e)\n",
    "            if conn:\n",
    "                conn.close()\n",
    "\n",
    "    def getProArtConProveeDesdeIndustry(self,list_ids):\n",
    "        resultados = []\n",
    "        try:\n",
    "            conn = self.Open_Conn_Industry()\n",
    "            if conn:\n",
    "                for id in list_ids:\n",
    "                    query = text(f\"SELECT CodigoArticulo, ProveedorHabitual, PrecioCosteStandard, PlazoAprovisionam FROM MArticulo WHERE (CodigoArticulo = N'{id}')\")\n",
    "                    result = conn.execute(query).fetchall()\n",
    "                    if result:\n",
    "                        resultados.extend(result)\n",
    "                conn.close()\n",
    "            return resultados\n",
    "        except Exception as e:\n",
    "            print(\"Error en la consulta:\", e)\n",
    "            if conn:\n",
    "                conn.close()\n",
    "\n",
    "    def getCheckProveedor(self, listaProveedor):\n",
    "        resultados = []\n",
    "        try:\n",
    "            conn = self.Open_Conn_Solmicro()\n",
    "            if conn:\n",
    "                for proveedor in listaProveedor:\n",
    "                    query = text(f\"SELECT top(1) IDProveedor FROM tbMaestroProveedor WHERE (IDProveedor = N'{proveedor}')\")\n",
    "                    result = conn.execute(query).fetchall()\n",
    "                    if not result:\n",
    "                        resultados.append(proveedor)\n",
    "                conn.close()                \n",
    "            return resultados\n",
    "        except Exception as e:\n",
    "            print(\"Error en la consulta:\", e)\n",
    "            if conn:\n",
    "                conn.close()\n",
    "\n",
    "    def definirPrincipaProveSolimicro(self,artCompra):\n",
    "        resultados = []        \n",
    "        try:\n",
    "            conn = self.Open_Conn_Solmicro()\n",
    "            if conn:\n",
    "                for id in artCompra:\n",
    "                    principal = 0\n",
    "                    query = text(f\"SELECT * FROM tbArticuloProveedor WHERE (IDArticulo = N'{id}')\")\n",
    "                    result = conn.execute(query).fetchall()\n",
    "                    for row in result:\n",
    "                        if row[4] == 1:\n",
    "                            principal = 1\n",
    "                            break\n",
    "                    if principal == 0:\n",
    "                        update_query = text(f\"UPDATE TOP (1) tbArticuloProveedor SET Principal = {1} WHERE IDArticulo = N'{id}'\")\n",
    "                        conn.execute(update_query)\n",
    "                conn.commit()\n",
    "                conn.close()\n",
    "            return resultados\n",
    "        except Exception as e:\n",
    "            print(\"Error en la consulta:\", e)\n",
    "            if conn:\n",
    "                conn.close()\n",
    "\n",
    "    \n",
    "    def updatePrincipal(self,artCompra):\n",
    "        resultados = []        \n",
    "        try:\n",
    "            conn = self.Open_Conn_Solmicro()\n",
    "            if conn:\n",
    "                for id in artCompra:\n",
    "                    principal = 0\n",
    "                    query = text(f\"UPDATE tbArticuloProveedor SET Principal = {0} WHERE IDArticulo = N'{id}'\")\n",
    "                    conn.execute(query)\n",
    "                    conn.commit()\n",
    "                    # for row in result:\n",
    "                    #     if row[4] == 1:\n",
    "                    #         principal = 1\n",
    "                    #         break\n",
    "                    # if principal == 0:\n",
    "                    update_query = text(f\"UPDATE TOP (1) tbArticuloProveedor SET Principal = {1} WHERE IDArticulo = N'{id}'\")\n",
    "                    conn.execute(update_query)\n",
    "                    conn.commit()\n",
    "                # conn.commit()\n",
    "                conn.close()\n",
    "            return resultados\n",
    "        except Exception as e:\n",
    "            print(\"Error en la consulta:\", e)\n",
    "            if conn:\n",
    "                conn.close()\n",
    "\n",
    "    def insertToTemp(self, datos):\n",
    "        conn = None\n",
    "        try:\n",
    "            conn = self.Open_Conn_Solmicro()\n",
    "            if conn:\n",
    "                for id in datos:\n",
    "                    stringInsert = text(f\"INSERT INTO a_quitar (IDArticulo) VALUES (N'{id}')\")\n",
    "                    conn.execute(stringInsert)\n",
    "                    conn.commit()\n",
    "        except Exception as e:\n",
    "            print(\"Error de insercion\", e)\n",
    "            return None\n",
    "        finally:\n",
    "            if conn:\n",
    "                conn.close()\n",
    "    @staticmethod\n",
    "    def export_to_excel(data):\n",
    "        df = pd.DataFrame(data,columns=[\"IDArticulo\"])\n",
    "        df.to_excel(\"ArtiSinProveedor.xlsx\",index=False)\n",
    "    @staticmethod\n",
    "    def export_to_excel_art_desd_indus(data):\n",
    "        df = pd.DataFrame(data,columns=[\"CodigoArticulo\",\"ProveedorHabitual\",\"PrecioCosteStandard\",\"PlazoAprovisionam\"])\n",
    "        df.to_excel(\"ArtiConProveedorIndustry.xlsx\",index=False)\n",
    "    @staticmethod\n",
    "    def export_to_excel_art_sin_prove(data):\n",
    "        df = pd.DataFrame(data,columns=[\"CodigoArticulo\",\"ProveedorHabitual\"])\n",
    "        df.to_excel(\"ArtiSinProveedorSolmicro.xlsx\",index=False)"
   ]
  },
  {
   "cell_type": "code",
   "execution_count": 150,
   "metadata": {},
   "outputs": [],
   "source": [
    "iArtCompra = ArticuloProveedor()"
   ]
  },
  {
   "cell_type": "code",
   "execution_count": 129,
   "metadata": {},
   "outputs": [
    {
     "name": "stdout",
     "output_type": "stream",
     "text": [
      "6585\n",
      "7651\n"
     ]
    }
   ],
   "source": [
    "# Otener todos los articulos de compra IDTipo = 04 IDFamilia >4000 and <4200 and <>4020\n",
    "list_art_compra = iArtCompra.getArtCompra()\n",
    "print(len(list_art_compra))\n",
    "# iArtCompra.export_to_excel_art_desd_indus(data=arti_con_provee_desde_industry)\n",
    "# iArtCompra.insertToTemp(datos=list_art_sin_proveedor)\n",
    "# iArtCompra.export_to_excel(list_art_sin_proveedor)"
   ]
  },
  {
   "cell_type": "code",
   "execution_count": 139,
   "metadata": {},
   "outputs": [
    {
     "name": "stdout",
     "output_type": "stream",
     "text": [
      "7651\n"
     ]
    }
   ],
   "source": [
    "# Obtener todos los articulos de compra IDTipo = 04 IDFamilia >4000 and <4200 and <>4020 de tabla tbArticuloProveedor\n",
    "list_art_con_proveedor = iArtCompra.getArtCompraConProveedor()\n",
    "print(len(list_art_con_proveedor))"
   ]
  },
  {
   "cell_type": "code",
   "execution_count": 151,
   "metadata": {},
   "outputs": [
    {
     "data": {
      "text/plain": [
       "[]"
      ]
     },
     "execution_count": 151,
     "metadata": {},
     "output_type": "execute_result"
    }
   ],
   "source": [
    "iArtCompra.updatePrincipal(list_art_con_proveedor)"
   ]
  },
  {
   "cell_type": "code",
   "execution_count": 131,
   "metadata": {},
   "outputs": [
    {
     "name": "stdout",
     "output_type": "stream",
     "text": [
      "497\n"
     ]
    }
   ],
   "source": [
    "# Obtener los articulos sin proveedor\n",
    "list_art_sin_proveedor = list(set(list_art_compra)-set(list_art_con_proveedor))\n",
    "print(len(list_art_sin_proveedor))"
   ]
  },
  {
   "cell_type": "code",
   "execution_count": 133,
   "metadata": {},
   "outputs": [],
   "source": [
    "arti_con_provee_desde_industry = iArtCompra.getProArtConProveeDesdeIndustry(list_ids=list_art_sin_proveedor)"
   ]
  },
  {
   "cell_type": "code",
   "execution_count": 107,
   "metadata": {},
   "outputs": [],
   "source": [
    "checkProveedor = iArtCompra.getCheckProveedor(listaProveedor=proveedores)"
   ]
  },
  {
   "cell_type": "code",
   "execution_count": 120,
   "metadata": {},
   "outputs": [
    {
     "data": {
      "text/plain": [
       "[31, 1090, 1092, 1093, 1096, 75, 614, 1126, 1133, 1139, 163]"
      ]
     },
     "execution_count": 120,
     "metadata": {},
     "output_type": "execute_result"
    }
   ],
   "source": [
    "checkProveedor"
   ]
  }
 ],
 "metadata": {
  "kernelspec": {
   "display_name": "flasktaskpython",
   "language": "python",
   "name": "python3"
  },
  "language_info": {
   "codemirror_mode": {
    "name": "ipython",
    "version": 3
   },
   "file_extension": ".py",
   "mimetype": "text/x-python",
   "name": "python",
   "nbconvert_exporter": "python",
   "pygments_lexer": "ipython3",
   "version": "3.11.5"
  }
 },
 "nbformat": 4,
 "nbformat_minor": 2
}
