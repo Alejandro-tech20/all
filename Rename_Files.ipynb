{
 "cells": [
  {
   "cell_type": "code",
   "execution_count": 7,
   "metadata": {},
   "outputs": [],
   "source": [
    "import os\n",
    "import shutil"
   ]
  },
  {
   "cell_type": "code",
   "execution_count": 9,
   "metadata": {},
   "outputs": [],
   "source": [
    "class Directory:\n",
    "    def __init__(self):\n",
    "        self.directori_source =r\"F:\\13_FAVRAM PUBLICO\\Instaladores comunes\\20230920_MES_FAVRAM\\20230920_MES_FAVRAM\\Bin\"\n",
    "        self.directori_target = r\"\\\\10.0.0.17\\c$\\inetpub\\wwwroot\\SOLMICRO6\\Bin\"\n",
    "        self.list_source_path = []\n",
    "        self.list_target_path = []\n",
    "    \n",
    "    def Read_list(self, file_name):\n",
    "        list_files = os.listdir(file_name)\n",
    "        return (list_files)\n",
    "    def Print_list(self, list_files):\n",
    "        for file in list_files:\n",
    "            print(file)\n",
    "    def Create_path(self, list_files):\n",
    "        for file in list_files:\n",
    "            self.list_source_path.append(os.path.join(self.directori_source,file))\n",
    "            self.list_target_path.append(os.path.join(self.directori_target,file))\n",
    "\n",
    "    def CopyFile(self,list_files):\n",
    "        for file in list_files:\n",
    "            source_path = os.path.join(self.directori_source,file)\n",
    "            target_path = os.path.join(self.directori_target,file)\n",
    "            if os.path.exists(target_path):\n",
    "                file_name,ext = os.path.splitext(file)\n",
    "                count = 1\n",
    "                while os.path.exists(target_path):\n",
    "                    rename_file = f\"{file_name}_{count}{ext}\"\n",
    "                    target_path = os.path.join(self.directori_target,rename_file)\n",
    "                    count += 1\n",
    "            shutil.copy2(source_path,target_path)    \n",
    "        \n",
    "\n"
   ]
  },
  {
   "cell_type": "code",
   "execution_count": null,
   "metadata": {},
   "outputs": [],
   "source": [
    "instance_directory = Directory()\n",
    "direc_files = instance_directory.directori_source\n",
    "list_files = instance_directory.Read_list(direc_files)\n",
    "instance_directory.CopyFile(list_files)"
   ]
  }
 ],
 "metadata": {
  "kernelspec": {
   "display_name": "backFlaskChatBot",
   "language": "python",
   "name": "python3"
  },
  "language_info": {
   "codemirror_mode": {
    "name": "ipython",
    "version": 3
   },
   "file_extension": ".py",
   "mimetype": "text/x-python",
   "name": "python",
   "nbconvert_exporter": "python",
   "pygments_lexer": "ipython3",
   "version": "3.11.5"
  },
  "orig_nbformat": 4
 },
 "nbformat": 4,
 "nbformat_minor": 2
}
