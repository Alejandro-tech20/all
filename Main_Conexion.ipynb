{
 "cells": [
  {
   "cell_type": "code",
   "execution_count": 1,
   "metadata": {},
   "outputs": [],
   "source": [
    "import pyodbc\n",
    "import pandas as pd"
   ]
  },
  {
   "cell_type": "code",
   "execution_count": 2,
   "metadata": {},
   "outputs": [],
   "source": [
    "class MainConexion:\n",
    "    def __init__(self):\n",
    "        self.server_solmicro = r'srvsql'\n",
    "        self.database_solmicro = 'SolmicroERP6_PruebasSub'\n",
    "        self.username_solmicro = 'sa'\n",
    "        self.password_solmicro = 'Altai2021'\n",
    "        self.connection_string_solmicro = f'DRIVER={{SQL Server}};SERVER={self.server_solmicro};DATABASE={self.database_solmicro};UID={self.username_solmicro};PWD={self.password_solmicro}'\n",
    "        self.connection = None\n",
    "        self.tables_info = []\n",
    "\n",
    "    def Open_Conn_Solmicro(self):\n",
    "        try:\n",
    "            self.connection = pyodbc.connect(self.connection_string_solmicro)\n",
    "        except Exception as e:\n",
    "            print(\"Error opening connection: \", e)\n",
    "\n",
    "    def __del__(self):\n",
    "        self.CloseConnection()\n",
    "\n",
    "    def CloseConnection(self):\n",
    "        try:\n",
    "            self.connection = pyodbc.connect(self.connection_string_solmicro)\n",
    "        except Exception as e:\n",
    "            print(\"Error opening connection: \", e)\n",
    "\n",
    "    def RunQuery(self, query_string):\n",
    "        cursor = self.connection.cursor()\n",
    "        # return cursor.execute(query_string).fetchall()\n",
    "        return pd.read_sql(sql=query_string,con=self.connection)\n",
    "\n",
    "    def UpdateCampoEnRegistros(self, query_string, table_name):\n",
    "        try:\n",
    "            response_data = self.RunQuery(query_string)\n",
    "            cursor = self.connection.cursor()\n",
    "            for row in response_data:\n",
    "                update_string = f\"UPDATE {table_name} set IDEstado = 'O' where IDArticulo='{row.IDArticulo}'\"\n",
    "                print(update_string)\n",
    "                cursor.execute(update_string)\n",
    "            cursor.commit()\n",
    "            cursor.close()\n",
    "        except Exception as e:\n",
    "            print('Error: ', e)"
   ]
  },
  {
   "cell_type": "code",
<<<<<<< HEAD
   "execution_count": 3,
   "metadata": {},
   "outputs": [
    {
     "name": "stdout",
     "output_type": "stream",
     "text": [
      "Error opening connection:  ('01000', \"[01000] [unixODBC][Driver Manager]Can't open lib 'SQL Server' : file not found (0) (SQLDriverConnect)\")\n"
     ]
    },
    {
     "ename": "AttributeError",
     "evalue": "'NoneType' object has no attribute 'cursor'",
     "output_type": "error",
     "traceback": [
      "\u001b[0;31m---------------------------------------------------------------------------\u001b[0m",
      "\u001b[0;31mAttributeError\u001b[0m                            Traceback (most recent call last)",
      "\u001b[1;32m/home/a/Desktop/repo/Notebook_Work/Main_Conexion.ipynb Celda 3\u001b[0m line \u001b[0;36m5\n\u001b[1;32m      <a href='vscode-notebook-cell:/home/a/Desktop/repo/Notebook_Work/Main_Conexion.ipynb#W2sZmlsZQ%3D%3D?line=2'>3</a>\u001b[0m i_Conexion\u001b[39m.\u001b[39mOpen_Conn_Solmicro()\n\u001b[1;32m      <a href='vscode-notebook-cell:/home/a/Desktop/repo/Notebook_Work/Main_Conexion.ipynb#W2sZmlsZQ%3D%3D?line=3'>4</a>\u001b[0m \u001b[39m# i_Conexion.UpdateCampoEnRegistros(query_string=query_string,table_name='tbMaestroArticulo')\u001b[39;00m\n\u001b[0;32m----> <a href='vscode-notebook-cell:/home/a/Desktop/repo/Notebook_Work/Main_Conexion.ipynb#W2sZmlsZQ%3D%3D?line=4'>5</a>\u001b[0m i_Conexion\u001b[39m.\u001b[39mRunQuery(query_string\u001b[39m=\u001b[39mquery_string)\n",
      "\u001b[1;32m/home/a/Desktop/repo/Notebook_Work/Main_Conexion.ipynb Celda 3\u001b[0m line \u001b[0;36m2\n\u001b[1;32m     <a href='vscode-notebook-cell:/home/a/Desktop/repo/Notebook_Work/Main_Conexion.ipynb#W2sZmlsZQ%3D%3D?line=25'>26</a>\u001b[0m \u001b[39mdef\u001b[39;00m \u001b[39mRunQuery\u001b[39m(\u001b[39mself\u001b[39m, query_string):\n\u001b[0;32m---> <a href='vscode-notebook-cell:/home/a/Desktop/repo/Notebook_Work/Main_Conexion.ipynb#W2sZmlsZQ%3D%3D?line=26'>27</a>\u001b[0m     cursor \u001b[39m=\u001b[39m \u001b[39mself\u001b[39m\u001b[39m.\u001b[39mconnection\u001b[39m.\u001b[39mcursor()\n\u001b[1;32m     <a href='vscode-notebook-cell:/home/a/Desktop/repo/Notebook_Work/Main_Conexion.ipynb#W2sZmlsZQ%3D%3D?line=27'>28</a>\u001b[0m     \u001b[39m# return cursor.execute(query_string).fetchall()\u001b[39;00m\n\u001b[1;32m     <a href='vscode-notebook-cell:/home/a/Desktop/repo/Notebook_Work/Main_Conexion.ipynb#W2sZmlsZQ%3D%3D?line=28'>29</a>\u001b[0m     \u001b[39mreturn\u001b[39;00m pd\u001b[39m.\u001b[39mread_sql(sql\u001b[39m=\u001b[39mquery_string,con\u001b[39m=\u001b[39m\u001b[39mself\u001b[39m\u001b[39m.\u001b[39mconnection)\n",
      "\u001b[0;31mAttributeError\u001b[0m: 'NoneType' object has no attribute 'cursor'"
     ]
    }
   ],
=======
   "execution_count": 4,
   "metadata": {},
   "outputs": [],
>>>>>>> 075b4ce1d7081f2e4457e691c59fa79084848bef
   "source": [
    "query_string = r\"SELECT  IDArticulo, DescArticulo, IDContador, IDEstado, IDTipo FROM tbMaestroArticulo WHERE (CHARINDEX('OBSOLETO', DescArticulo) > 0) AND (IDEstado <> 'O')\"\n",
    "i_Conexion = MainConexion()\n",
    "i_Conexion.Open_Conn_Solmicro()\n",
    "# i_Conexion.UpdateCampoEnRegistros(query_string=query_string,table_name='tbMaestroArticulo')\n",
    "# i_Conexion.RunQuery(query_string=query_string)\n",
    "\n"
   ]
  }
 ],
 "metadata": {
  "kernelspec": {
   "display_name": "notebook_work",
   "language": "python",
   "name": "python3"
  },
  "language_info": {
   "codemirror_mode": {
    "name": "ipython",
    "version": 3
   },
   "file_extension": ".py",
   "mimetype": "text/x-python",
   "name": "python",
   "nbconvert_exporter": "python",
   "pygments_lexer": "ipython3",
   "version": "3.11.5"
  }
 },
 "nbformat": 4,
 "nbformat_minor": 2
}
